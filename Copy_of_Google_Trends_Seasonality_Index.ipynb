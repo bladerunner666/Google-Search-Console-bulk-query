{
  "nbformat": 4,
  "nbformat_minor": 0,
  "metadata": {
    "colab": {
      "name": "Copy of Google Trends Seasonality Index.ipynb",
      "provenance": [],
      "collapsed_sections": [],
      "toc_visible": true,
      "include_colab_link": true
    },
    "kernelspec": {
      "name": "python3",
      "display_name": "Python 3"
    }
  },
  "cells": [
    {
      "cell_type": "markdown",
      "metadata": {
        "id": "view-in-github",
        "colab_type": "text"
      },
      "source": [
        "<a href=\"https://colab.research.google.com/github/bladerunner666/Google-Search-Console-bulk-query/blob/master/Copy_of_Google_Trends_Seasonality_Index.ipynb\" target=\"_parent\"><img src=\"https://colab.research.google.com/assets/colab-badge.svg\" alt=\"Open In Colab\"/></a>"
      ]
    },
    {
      "cell_type": "markdown",
      "metadata": {
        "id": "gGy9VyoEpKD9",
        "colab_type": "text"
      },
      "source": [
        "# Building a Seasonality Index with Google Trends"
      ]
    },
    {
      "cell_type": "markdown",
      "metadata": {
        "id": "Xk5BsIm5pWMm",
        "colab_type": "text"
      },
      "source": [
        "A seasonality index is a forecasting tool used to determine demand for certain products or, in this case, search terms in a given market over the course of a typical year. Google Trends is a powerful tool that leverages the data collected by Google Search to quantify interest for a particular search term over time. We will use the past 5 years of Google Trends interest data to predict future interest over the next year in one-week spans."
      ]
    },
    {
      "cell_type": "markdown",
      "metadata": {
        "id": "aGEjDKhUp8sF",
        "colab_type": "text"
      },
      "source": [
        "## 1. Install Required Modules"
      ]
    },
    {
      "cell_type": "code",
      "metadata": {
        "id": "pX_lXHNRqAvR",
        "colab_type": "code",
        "outputId": "67a733c3-70b4-4fc5-c9d6-3a27461fbe40",
        "colab": {
          "base_uri": "https://localhost:8080/",
          "height": 34
        }
      },
      "source": [
        "from IPython.display import clear_output\n",
        "!pip install pandas pytrends matplotlib numpy\n",
        "clear_output()\n",
        "print('All Installed.')"
      ],
      "execution_count": 0,
      "outputs": [
        {
          "output_type": "stream",
          "text": [
            "All Installed.\n"
          ],
          "name": "stdout"
        }
      ]
    },
    {
      "cell_type": "markdown",
      "metadata": {
        "id": "0Tx2hx9Sqei_",
        "colab_type": "text"
      },
      "source": [
        "## 2. Import Required Modules"
      ]
    },
    {
      "cell_type": "code",
      "metadata": {
        "id": "g0vwKvMdqomk",
        "colab_type": "code",
        "colab": {}
      },
      "source": [
        "from pytrends.request import TrendReq\n",
        "import pandas as pd\n",
        "import numpy as np\n",
        "import matplotlib.pyplot as plt\n",
        "from datetime import datetime"
      ],
      "execution_count": 0,
      "outputs": []
    },
    {
      "cell_type": "markdown",
      "metadata": {
        "id": "ioCyB9lLq4Cl",
        "colab_type": "text"
      },
      "source": [
        "## 3. Create Functions\n",
        "\n",
        "We'll require two functions to create our seasonality index. The first, getTrends, will take a keyword and a dictionary object as parameters. This function will call the Google Trends API and append the data to a list stored in the dictionary object using the dates as a key.\n",
        "\n",
        "The second function, average, will be used to calculate the average interest for each date in the dictionary."
      ]
    },
    {
      "cell_type": "code",
      "metadata": {
        "id": "9xSgumoW0RW7",
        "colab_type": "code",
        "colab": {}
      },
      "source": [
        "def getTrends(keyword, data):\n",
        "    pytrends = TrendReq()\n",
        "    pytrends.build_payload([keyword], cat=0, timeframe='today 5-y', geo='US')\n",
        "    df = pytrends.interest_over_time()\n",
        "    for i, row in df.iterrows():\n",
        "        i = str(i).split()[0]\n",
        "        datetime.strptime(i, '%Y-%m-%d')\n",
        "        if i not in data.keys():\n",
        "            data[i] = [row[keyword]]\n",
        "        else:\n",
        "            data[i].append(row[keyword])\n",
        "    return data\n",
        "    \n",
        "def average(lst):\n",
        "    if len(lst) > 0:\n",
        "        return sum(lst) / len(lst)\n",
        "    else:\n",
        "        return 0"
      ],
      "execution_count": 0,
      "outputs": []
    },
    {
      "cell_type": "markdown",
      "metadata": {
        "id": "MbYv3MOn0Zcb",
        "colab_type": "text"
      },
      "source": [
        "## 4. Create Keyword List"
      ]
    },
    {
      "cell_type": "code",
      "metadata": {
        "id": "xUoqOtjl0cSk",
        "colab_type": "code",
        "outputId": "4d0d141d-1248-4df3-e03e-527f54bf3988",
        "colab": {
          "base_uri": "https://localhost:8080/",
          "height": 204
        }
      },
      "source": [
        "# Replace the link below with the shareable link to your csv file\n",
        "file_link = 'https://drive.google.com/open?id=1dVz1k5er3xHwdL-tont1zopWLJ0vGqJv'\n",
        "# Code to read csv file into Colaboratory:\n",
        "!pip install -U -q PyDrive\n",
        "from pydrive.auth import GoogleAuth\n",
        "from pydrive.drive import GoogleDrive\n",
        "from google.colab import auth\n",
        "from oauth2client.client import GoogleCredentials\n",
        "# Authenticate and create the PyDrive client.\n",
        "auth.authenticate_user()\n",
        "gauth = GoogleAuth()\n",
        "gauth.credentials = GoogleCredentials.get_application_default()\n",
        "drive = GoogleDrive(gauth)\n",
        "# Read CSV file and create Pandas dataframe.\n",
        "fluff, id = file_link.split('=')\n",
        "downloaded = drive.CreateFile({'id':id}) \n",
        "downloaded.GetContentFile('gsc_data.csv')  \n",
        "df = pd.read_csv('gsc_data.csv')\n",
        "df.head()"
      ],
      "execution_count": 0,
      "outputs": [
        {
          "output_type": "execute_result",
          "data": {
            "text/html": [
              "<div>\n",
              "<style scoped>\n",
              "    .dataframe tbody tr th:only-of-type {\n",
              "        vertical-align: middle;\n",
              "    }\n",
              "\n",
              "    .dataframe tbody tr th {\n",
              "        vertical-align: top;\n",
              "    }\n",
              "\n",
              "    .dataframe thead th {\n",
              "        text-align: right;\n",
              "    }\n",
              "</style>\n",
              "<table border=\"1\" class=\"dataframe\">\n",
              "  <thead>\n",
              "    <tr style=\"text-align: right;\">\n",
              "      <th></th>\n",
              "      <th>Query</th>\n",
              "      <th>Clicks</th>\n",
              "      <th>Impressions</th>\n",
              "      <th>CTR</th>\n",
              "      <th>Position</th>\n",
              "    </tr>\n",
              "  </thead>\n",
              "  <tbody>\n",
              "    <tr>\n",
              "      <th>0</th>\n",
              "      <td>new england patriots</td>\n",
              "      <td>10401</td>\n",
              "      <td>87114</td>\n",
              "      <td>11.94%</td>\n",
              "      <td>1.18</td>\n",
              "    </tr>\n",
              "    <tr>\n",
              "      <th>1</th>\n",
              "      <td>seattle seahaws</td>\n",
              "      <td>8269</td>\n",
              "      <td>22062</td>\n",
              "      <td>37.48%</td>\n",
              "      <td>1.61</td>\n",
              "    </tr>\n",
              "    <tr>\n",
              "      <th>2</th>\n",
              "      <td>carolina panthers</td>\n",
              "      <td>7132</td>\n",
              "      <td>48211</td>\n",
              "      <td>14.79%</td>\n",
              "      <td>3.76</td>\n",
              "    </tr>\n",
              "    <tr>\n",
              "      <th>3</th>\n",
              "      <td>new york jets</td>\n",
              "      <td>5162</td>\n",
              "      <td>96534</td>\n",
              "      <td>5.35%</td>\n",
              "      <td>4.11</td>\n",
              "    </tr>\n",
              "    <tr>\n",
              "      <th>4</th>\n",
              "      <td>green bay packers</td>\n",
              "      <td>5084</td>\n",
              "      <td>33609</td>\n",
              "      <td>15.13%</td>\n",
              "      <td>1.03</td>\n",
              "    </tr>\n",
              "  </tbody>\n",
              "</table>\n",
              "</div>"
            ],
            "text/plain": [
              "                  Query  Clicks  Impressions     CTR  Position\n",
              "0  new england patriots   10401        87114  11.94%      1.18\n",
              "1       seattle seahaws    8269        22062  37.48%      1.61\n",
              "2     carolina panthers    7132        48211  14.79%      3.76\n",
              "3         new york jets    5162        96534   5.35%      4.11\n",
              "4     green bay packers    5084        33609  15.13%      1.03"
            ]
          },
          "metadata": {
            "tags": []
          },
          "execution_count": 5
        }
      ]
    },
    {
      "cell_type": "markdown",
      "metadata": {
        "id": "KymTuiy70rnc",
        "colab_type": "text"
      },
      "source": [
        "## 5. Query Google Trends"
      ]
    },
    {
      "cell_type": "code",
      "metadata": {
        "id": "Lw0tM_tf0wH2",
        "colab_type": "code",
        "colab": {}
      },
      "source": [
        "keywords = list(df['Query'])\n",
        "data = {}\n",
        "\n",
        "for keyword in keywords:\n",
        "    data = getTrends(keyword, data)"
      ],
      "execution_count": 0,
      "outputs": []
    },
    {
      "cell_type": "markdown",
      "metadata": {
        "id": "s9T3PEfW02Nx",
        "colab_type": "text"
      },
      "source": [
        "## 6. Calculate Average Interest Over Time"
      ]
    },
    {
      "cell_type": "code",
      "metadata": {
        "id": "-zRkySop0667",
        "colab_type": "code",
        "outputId": "dbd244de-5dfb-4ba2-cef7-9bf28e37c995",
        "colab": {
          "base_uri": "https://localhost:8080/",
          "height": 204
        }
      },
      "source": [
        "for key, value in data.items():\n",
        "    data[key] = [average(data[key])]\n",
        "    \n",
        "df = pd.DataFrame.from_dict(data, orient='index', columns=['Interest'])\n",
        "df.index.rename('Date', inplace=True)\n",
        "df = df.reset_index()\n",
        "df.head()"
      ],
      "execution_count": 0,
      "outputs": [
        {
          "output_type": "execute_result",
          "data": {
            "text/html": [
              "<div>\n",
              "<style scoped>\n",
              "    .dataframe tbody tr th:only-of-type {\n",
              "        vertical-align: middle;\n",
              "    }\n",
              "\n",
              "    .dataframe tbody tr th {\n",
              "        vertical-align: top;\n",
              "    }\n",
              "\n",
              "    .dataframe thead th {\n",
              "        text-align: right;\n",
              "    }\n",
              "</style>\n",
              "<table border=\"1\" class=\"dataframe\">\n",
              "  <thead>\n",
              "    <tr style=\"text-align: right;\">\n",
              "      <th></th>\n",
              "      <th>Date</th>\n",
              "      <th>Interest</th>\n",
              "    </tr>\n",
              "  </thead>\n",
              "  <tbody>\n",
              "    <tr>\n",
              "      <th>0</th>\n",
              "      <td>2015-02-08</td>\n",
              "      <td>11.6</td>\n",
              "    </tr>\n",
              "    <tr>\n",
              "      <th>1</th>\n",
              "      <td>2015-02-15</td>\n",
              "      <td>5.8</td>\n",
              "    </tr>\n",
              "    <tr>\n",
              "      <th>2</th>\n",
              "      <td>2015-02-22</td>\n",
              "      <td>5.2</td>\n",
              "    </tr>\n",
              "    <tr>\n",
              "      <th>3</th>\n",
              "      <td>2015-03-01</td>\n",
              "      <td>7.4</td>\n",
              "    </tr>\n",
              "    <tr>\n",
              "      <th>4</th>\n",
              "      <td>2015-03-08</td>\n",
              "      <td>26.2</td>\n",
              "    </tr>\n",
              "  </tbody>\n",
              "</table>\n",
              "</div>"
            ],
            "text/plain": [
              "         Date  Interest\n",
              "0  2015-02-08      11.6\n",
              "1  2015-02-15       5.8\n",
              "2  2015-02-22       5.2\n",
              "3  2015-03-01       7.4\n",
              "4  2015-03-08      26.2"
            ]
          },
          "metadata": {
            "tags": []
          },
          "execution_count": 7
        }
      ]
    },
    {
      "cell_type": "markdown",
      "metadata": {
        "id": "RR1OUYMV1AM9",
        "colab_type": "text"
      },
      "source": [
        "## 7. Plot Results"
      ]
    },
    {
      "cell_type": "code",
      "metadata": {
        "id": "loS64yt41C3-",
        "colab_type": "code",
        "outputId": "ca86cee9-1aaa-4fd6-c2dd-6db6c4733334",
        "colab": {
          "base_uri": "https://localhost:8080/",
          "height": 247
        }
      },
      "source": [
        "plt.plot_date(x=df.Date, y=df['Interest'], fmt=\"r-\")\n",
        "plt.title(\"Interest Over Time\")\n",
        "plt.ylabel(\"Interest\")\n",
        "\n",
        "xmarks = df.Date[0::30]\n",
        "    \n",
        "plt.xticks(xmarks)\n",
        "plt.rcParams[\"figure.figsize\"] = (20,3)\n",
        "plt.show()"
      ],
      "execution_count": 0,
      "outputs": [
        {
          "output_type": "display_data",
          "data": {
            "image/png": "[encoded data removed]",
            "text/plain": [
              "<Figure size 1440x216 with 1 Axes>"
            ]
          },
          "metadata": {
            "tags": []
          }
        }
      ]
    },
    {
      "cell_type": "markdown",
      "metadata": {
        "id": "bAn_Y-G9wNsd",
        "colab_type": "text"
      },
      "source": [
        "## 8. Group by Month\n",
        "\n",
        "In order to calculate a monthly seasonality index, we need to group all of the search data over the last 5 years by month. We'll do this by converting the `YY-MM-DD` strings to `MM` strings and using Pandas to create a pivot table that aggregates average interest by month.\n",
        "\n"
      ]
    },
    {
      "cell_type": "code",
      "metadata": {
        "id": "DXxgP4XCxFGQ",
        "colab_type": "code",
        "colab": {}
      },
      "source": [
        "df = df.dropna()\n",
        "df.Date = pd.to_datetime(df.Date)\n",
        "df.Date = df.Date.dt.strftime('%B')\n"
      ],
      "execution_count": 0,
      "outputs": []
    },
    {
      "cell_type": "code",
      "metadata": {
        "id": "JMQbmbz_4IJb",
        "colab_type": "code",
        "outputId": "36107526-bec8-4165-f45b-cc8dff25e6fc",
        "colab": {
          "base_uri": "https://localhost:8080/",
          "height": 421
        }
      },
      "source": [
        "df_pivot = df.pivot_table(index='Date')\n",
        "df_pivot = df_pivot.reset_index()\n",
        "avg = df_pivot['Interest'].mean()\n",
        "df_pivot['Seasonality Index'] = df_pivot['Interest'] / avg\n",
        "months = ['January', 'February', 'March', 'April', 'May', 'June', 'July', 'August', 'September', 'October', 'November', 'December']\n",
        "df_pivot['Date'] = pd.Categorical(df_pivot['Date'], categories=months, ordered=True)\n",
        "df_pivot.sort_values('Date', ascending=True, inplace=True)\n",
        "df_pivot"
      ],
      "execution_count": 0,
      "outputs": [
        {
          "output_type": "execute_result",
          "data": {
            "text/html": [
              "<div>\n",
              "<style scoped>\n",
              "    .dataframe tbody tr th:only-of-type {\n",
              "        vertical-align: middle;\n",
              "    }\n",
              "\n",
              "    .dataframe tbody tr th {\n",
              "        vertical-align: top;\n",
              "    }\n",
              "\n",
              "    .dataframe thead th {\n",
              "        text-align: right;\n",
              "    }\n",
              "</style>\n",
              "<table border=\"1\" class=\"dataframe\">\n",
              "  <thead>\n",
              "    <tr style=\"text-align: right;\">\n",
              "      <th></th>\n",
              "      <th>Date</th>\n",
              "      <th>Interest</th>\n",
              "      <th>Seasonality Index</th>\n",
              "    </tr>\n",
              "  </thead>\n",
              "  <tbody>\n",
              "    <tr>\n",
              "      <th>4</th>\n",
              "      <td>January</td>\n",
              "      <td>25.890909</td>\n",
              "      <td>1.372350</td>\n",
              "    </tr>\n",
              "    <tr>\n",
              "      <th>3</th>\n",
              "      <td>February</td>\n",
              "      <td>10.890000</td>\n",
              "      <td>0.577226</td>\n",
              "    </tr>\n",
              "    <tr>\n",
              "      <th>7</th>\n",
              "      <td>March</td>\n",
              "      <td>12.945455</td>\n",
              "      <td>0.686175</td>\n",
              "    </tr>\n",
              "    <tr>\n",
              "      <th>0</th>\n",
              "      <td>April</td>\n",
              "      <td>12.390909</td>\n",
              "      <td>0.656781</td>\n",
              "    </tr>\n",
              "    <tr>\n",
              "      <th>8</th>\n",
              "      <td>May</td>\n",
              "      <td>9.918182</td>\n",
              "      <td>0.525714</td>\n",
              "    </tr>\n",
              "    <tr>\n",
              "      <th>6</th>\n",
              "      <td>June</td>\n",
              "      <td>8.009524</td>\n",
              "      <td>0.424546</td>\n",
              "    </tr>\n",
              "    <tr>\n",
              "      <th>5</th>\n",
              "      <td>July</td>\n",
              "      <td>9.400000</td>\n",
              "      <td>0.498248</td>\n",
              "    </tr>\n",
              "    <tr>\n",
              "      <th>1</th>\n",
              "      <td>August</td>\n",
              "      <td>20.114286</td>\n",
              "      <td>1.066160</td>\n",
              "    </tr>\n",
              "    <tr>\n",
              "      <th>11</th>\n",
              "      <td>September</td>\n",
              "      <td>31.836364</td>\n",
              "      <td>1.687490</td>\n",
              "    </tr>\n",
              "    <tr>\n",
              "      <th>10</th>\n",
              "      <td>October</td>\n",
              "      <td>28.727273</td>\n",
              "      <td>1.522692</td>\n",
              "    </tr>\n",
              "    <tr>\n",
              "      <th>9</th>\n",
              "      <td>November</td>\n",
              "      <td>28.009524</td>\n",
              "      <td>1.484648</td>\n",
              "    </tr>\n",
              "    <tr>\n",
              "      <th>2</th>\n",
              "      <td>December</td>\n",
              "      <td>28.260870</td>\n",
              "      <td>1.497970</td>\n",
              "    </tr>\n",
              "  </tbody>\n",
              "</table>\n",
              "</div>"
            ],
            "text/plain": [
              "         Date   Interest  Seasonality Index\n",
              "4     January  25.890909           1.372350\n",
              "3    February  10.890000           0.577226\n",
              "7       March  12.945455           0.686175\n",
              "0       April  12.390909           0.656781\n",
              "8         May   9.918182           0.525714\n",
              "6        June   8.009524           0.424546\n",
              "5        July   9.400000           0.498248\n",
              "1      August  20.114286           1.066160\n",
              "11  September  31.836364           1.687490\n",
              "10    October  28.727273           1.522692\n",
              "9    November  28.009524           1.484648\n",
              "2    December  28.260870           1.497970"
            ]
          },
          "metadata": {
            "tags": []
          },
          "execution_count": 11
        }
      ]
    },
    {
      "cell_type": "code",
      "metadata": {
        "id": "Epq_06q3jKJA",
        "colab_type": "code",
        "colab": {}
      },
      "source": [
        "df_pivot.to_csv('seasonality_index.csv')"
      ],
      "execution_count": 0,
      "outputs": []
    }
  ]
}